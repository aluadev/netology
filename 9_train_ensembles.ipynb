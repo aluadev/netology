{
 "cells": [
  {
   "cell_type": "code",
   "execution_count": 1,
   "metadata": {},
   "outputs": [],
   "source": [
    "import matplotlib.pyplot as plt\n",
    "import pandas as pd\n",
    "import numpy as np\n",
    "from jupyterthemes import jtplot\n",
    "from sklearn.metrics import auc, roc_curve, roc_auc_score\n",
    "%matplotlib inline\n",
    "jtplot.style()"
   ]
  },
  {
   "cell_type": "code",
   "execution_count": 2,
   "metadata": {},
   "outputs": [
    {
     "data": {
      "text/html": [
       "<div>\n",
       "<style scoped>\n",
       "    .dataframe tbody tr th:only-of-type {\n",
       "        vertical-align: middle;\n",
       "    }\n",
       "\n",
       "    .dataframe tbody tr th {\n",
       "        vertical-align: top;\n",
       "    }\n",
       "\n",
       "    .dataframe thead th {\n",
       "        text-align: right;\n",
       "    }\n",
       "</style>\n",
       "<table border=\"1\" class=\"dataframe\">\n",
       "  <thead>\n",
       "    <tr style=\"text-align: right;\">\n",
       "      <th></th>\n",
       "      <th>ID</th>\n",
       "      <th>target</th>\n",
       "      <th>v1</th>\n",
       "      <th>v2</th>\n",
       "      <th>v3</th>\n",
       "      <th>v4</th>\n",
       "      <th>v5</th>\n",
       "      <th>v6</th>\n",
       "      <th>v7</th>\n",
       "      <th>v8</th>\n",
       "      <th>...</th>\n",
       "      <th>v122</th>\n",
       "      <th>v123</th>\n",
       "      <th>v124</th>\n",
       "      <th>v125</th>\n",
       "      <th>v126</th>\n",
       "      <th>v127</th>\n",
       "      <th>v128</th>\n",
       "      <th>v129</th>\n",
       "      <th>v130</th>\n",
       "      <th>v131</th>\n",
       "    </tr>\n",
       "  </thead>\n",
       "  <tbody>\n",
       "    <tr>\n",
       "      <th>0</th>\n",
       "      <td>3</td>\n",
       "      <td>1</td>\n",
       "      <td>1.335739</td>\n",
       "      <td>8.727474</td>\n",
       "      <td>C</td>\n",
       "      <td>3.921026</td>\n",
       "      <td>7.915266</td>\n",
       "      <td>2.599278</td>\n",
       "      <td>3.176895</td>\n",
       "      <td>0.012941</td>\n",
       "      <td>...</td>\n",
       "      <td>8.000000</td>\n",
       "      <td>1.989780</td>\n",
       "      <td>0.035754</td>\n",
       "      <td>AU</td>\n",
       "      <td>1.804126</td>\n",
       "      <td>3.113719</td>\n",
       "      <td>2.024285</td>\n",
       "      <td>0</td>\n",
       "      <td>0.636365</td>\n",
       "      <td>2.857144</td>\n",
       "    </tr>\n",
       "    <tr>\n",
       "      <th>1</th>\n",
       "      <td>4</td>\n",
       "      <td>1</td>\n",
       "      <td>NaN</td>\n",
       "      <td>NaN</td>\n",
       "      <td>C</td>\n",
       "      <td>NaN</td>\n",
       "      <td>9.191265</td>\n",
       "      <td>NaN</td>\n",
       "      <td>NaN</td>\n",
       "      <td>2.301630</td>\n",
       "      <td>...</td>\n",
       "      <td>NaN</td>\n",
       "      <td>NaN</td>\n",
       "      <td>0.598896</td>\n",
       "      <td>AF</td>\n",
       "      <td>NaN</td>\n",
       "      <td>NaN</td>\n",
       "      <td>1.957825</td>\n",
       "      <td>0</td>\n",
       "      <td>NaN</td>\n",
       "      <td>NaN</td>\n",
       "    </tr>\n",
       "    <tr>\n",
       "      <th>2</th>\n",
       "      <td>5</td>\n",
       "      <td>1</td>\n",
       "      <td>0.943877</td>\n",
       "      <td>5.310079</td>\n",
       "      <td>C</td>\n",
       "      <td>4.410969</td>\n",
       "      <td>5.326159</td>\n",
       "      <td>3.979592</td>\n",
       "      <td>3.928571</td>\n",
       "      <td>0.019645</td>\n",
       "      <td>...</td>\n",
       "      <td>9.333333</td>\n",
       "      <td>2.477596</td>\n",
       "      <td>0.013452</td>\n",
       "      <td>AE</td>\n",
       "      <td>1.773709</td>\n",
       "      <td>3.922193</td>\n",
       "      <td>1.120468</td>\n",
       "      <td>2</td>\n",
       "      <td>0.883118</td>\n",
       "      <td>1.176472</td>\n",
       "    </tr>\n",
       "    <tr>\n",
       "      <th>3</th>\n",
       "      <td>6</td>\n",
       "      <td>1</td>\n",
       "      <td>0.797415</td>\n",
       "      <td>8.304757</td>\n",
       "      <td>C</td>\n",
       "      <td>4.225930</td>\n",
       "      <td>11.627438</td>\n",
       "      <td>2.097700</td>\n",
       "      <td>1.987549</td>\n",
       "      <td>0.171947</td>\n",
       "      <td>...</td>\n",
       "      <td>7.018256</td>\n",
       "      <td>1.812795</td>\n",
       "      <td>0.002267</td>\n",
       "      <td>CJ</td>\n",
       "      <td>1.415230</td>\n",
       "      <td>2.954381</td>\n",
       "      <td>1.990847</td>\n",
       "      <td>1</td>\n",
       "      <td>1.677108</td>\n",
       "      <td>1.034483</td>\n",
       "    </tr>\n",
       "    <tr>\n",
       "      <th>4</th>\n",
       "      <td>8</td>\n",
       "      <td>1</td>\n",
       "      <td>NaN</td>\n",
       "      <td>NaN</td>\n",
       "      <td>C</td>\n",
       "      <td>NaN</td>\n",
       "      <td>NaN</td>\n",
       "      <td>NaN</td>\n",
       "      <td>NaN</td>\n",
       "      <td>NaN</td>\n",
       "      <td>...</td>\n",
       "      <td>NaN</td>\n",
       "      <td>NaN</td>\n",
       "      <td>NaN</td>\n",
       "      <td>Z</td>\n",
       "      <td>NaN</td>\n",
       "      <td>NaN</td>\n",
       "      <td>NaN</td>\n",
       "      <td>0</td>\n",
       "      <td>NaN</td>\n",
       "      <td>NaN</td>\n",
       "    </tr>\n",
       "  </tbody>\n",
       "</table>\n",
       "<p>5 rows × 133 columns</p>\n",
       "</div>"
      ],
      "text/plain": [
       "   ID  target        v1        v2 v3        v4         v5        v6        v7  \\\n",
       "0   3       1  1.335739  8.727474  C  3.921026   7.915266  2.599278  3.176895   \n",
       "1   4       1       NaN       NaN  C       NaN   9.191265       NaN       NaN   \n",
       "2   5       1  0.943877  5.310079  C  4.410969   5.326159  3.979592  3.928571   \n",
       "3   6       1  0.797415  8.304757  C  4.225930  11.627438  2.097700  1.987549   \n",
       "4   8       1       NaN       NaN  C       NaN        NaN       NaN       NaN   \n",
       "\n",
       "         v8  ...      v122      v123      v124  v125      v126      v127  \\\n",
       "0  0.012941  ...  8.000000  1.989780  0.035754    AU  1.804126  3.113719   \n",
       "1  2.301630  ...       NaN       NaN  0.598896    AF       NaN       NaN   \n",
       "2  0.019645  ...  9.333333  2.477596  0.013452    AE  1.773709  3.922193   \n",
       "3  0.171947  ...  7.018256  1.812795  0.002267    CJ  1.415230  2.954381   \n",
       "4       NaN  ...       NaN       NaN       NaN     Z       NaN       NaN   \n",
       "\n",
       "       v128  v129      v130      v131  \n",
       "0  2.024285     0  0.636365  2.857144  \n",
       "1  1.957825     0       NaN       NaN  \n",
       "2  1.120468     2  0.883118  1.176472  \n",
       "3  1.990847     1  1.677108  1.034483  \n",
       "4       NaN     0       NaN       NaN  \n",
       "\n",
       "[5 rows x 133 columns]"
      ]
     },
     "execution_count": 2,
     "metadata": {},
     "output_type": "execute_result"
    }
   ],
   "source": [
    "data = pd.read_csv('train.csv')\n",
    "data.head()"
   ]
  },
  {
   "cell_type": "code",
   "execution_count": 3,
   "metadata": {},
   "outputs": [
    {
     "name": "stdout",
     "output_type": "stream",
     "text": [
      "<class 'pandas.core.frame.DataFrame'>\n",
      "RangeIndex: 114321 entries, 0 to 114320\n",
      "Columns: 133 entries, ID to v131\n",
      "dtypes: float64(108), int64(6), object(19)\n",
      "memory usage: 116.0+ MB\n"
     ]
    }
   ],
   "source": [
    "data.info()"
   ]
  },
  {
   "cell_type": "code",
   "execution_count": 4,
   "metadata": {},
   "outputs": [],
   "source": [
    "# обнуляем ячейки с отсутствием данных\n",
    "for i in data:\n",
    "    data = data[ pd.isnull( data[i] ) == 0 ]\n",
    "    "
   ]
  },
  {
   "cell_type": "code",
   "execution_count": 5,
   "metadata": {},
   "outputs": [
    {
     "name": "stdout",
     "output_type": "stream",
     "text": [
      "Для v128 пустых строк 0\n"
     ]
    }
   ],
   "source": [
    "#check\n",
    "print('Для v128 пустых строк {}'.format( len( data[ pd.isnull( data['v128'] ) ] ) ))"
   ]
  },
  {
   "cell_type": "code",
   "execution_count": 6,
   "metadata": {},
   "outputs": [
    {
     "data": {
      "text/plain": [
       "array([1, 0])"
      ]
     },
     "execution_count": 6,
     "metadata": {},
     "output_type": "execute_result"
    }
   ],
   "source": [
    "data.target.unique()"
   ]
  },
  {
   "cell_type": "code",
   "execution_count": 7,
   "metadata": {},
   "outputs": [],
   "source": [
    "y=data['target']"
   ]
  },
  {
   "cell_type": "code",
   "execution_count": 8,
   "metadata": {},
   "outputs": [
    {
     "data": {
      "text/html": [
       "<div>\n",
       "<style scoped>\n",
       "    .dataframe tbody tr th:only-of-type {\n",
       "        vertical-align: middle;\n",
       "    }\n",
       "\n",
       "    .dataframe tbody tr th {\n",
       "        vertical-align: top;\n",
       "    }\n",
       "\n",
       "    .dataframe thead th {\n",
       "        text-align: right;\n",
       "    }\n",
       "</style>\n",
       "<table border=\"1\" class=\"dataframe\">\n",
       "  <thead>\n",
       "    <tr style=\"text-align: right;\">\n",
       "      <th></th>\n",
       "      <th>v1</th>\n",
       "      <th>v2</th>\n",
       "      <th>v3</th>\n",
       "      <th>v4</th>\n",
       "      <th>v5</th>\n",
       "      <th>v6</th>\n",
       "      <th>v7</th>\n",
       "      <th>v8</th>\n",
       "      <th>v9</th>\n",
       "      <th>v10</th>\n",
       "      <th>...</th>\n",
       "      <th>v122</th>\n",
       "      <th>v123</th>\n",
       "      <th>v124</th>\n",
       "      <th>v125</th>\n",
       "      <th>v126</th>\n",
       "      <th>v127</th>\n",
       "      <th>v128</th>\n",
       "      <th>v129</th>\n",
       "      <th>v130</th>\n",
       "      <th>v131</th>\n",
       "    </tr>\n",
       "  </thead>\n",
       "  <tbody>\n",
       "    <tr>\n",
       "      <th>21</th>\n",
       "      <td>1.289841</td>\n",
       "      <td>4.788645</td>\n",
       "      <td>C</td>\n",
       "      <td>4.283417</td>\n",
       "      <td>10.719571</td>\n",
       "      <td>3.107570</td>\n",
       "      <td>1.962151</td>\n",
       "      <td>0.080812</td>\n",
       "      <td>8.604652</td>\n",
       "      <td>5.229758</td>\n",
       "      <td>...</td>\n",
       "      <td>5.968993</td>\n",
       "      <td>2.169826</td>\n",
       "      <td>0.004920</td>\n",
       "      <td>CD</td>\n",
       "      <td>1.460793</td>\n",
       "      <td>1.531375</td>\n",
       "      <td>1.964652</td>\n",
       "      <td>1</td>\n",
       "      <td>2.111675</td>\n",
       "      <td>1.346155</td>\n",
       "    </tr>\n",
       "    <tr>\n",
       "      <th>63</th>\n",
       "      <td>2.495783</td>\n",
       "      <td>9.306134</td>\n",
       "      <td>C</td>\n",
       "      <td>6.572474</td>\n",
       "      <td>10.292470</td>\n",
       "      <td>3.001686</td>\n",
       "      <td>2.664418</td>\n",
       "      <td>0.511063</td>\n",
       "      <td>10.235293</td>\n",
       "      <td>0.787746</td>\n",
       "      <td>...</td>\n",
       "      <td>8.705882</td>\n",
       "      <td>2.510637</td>\n",
       "      <td>0.757561</td>\n",
       "      <td>K</td>\n",
       "      <td>1.483949</td>\n",
       "      <td>4.584738</td>\n",
       "      <td>3.453224</td>\n",
       "      <td>0</td>\n",
       "      <td>1.645569</td>\n",
       "      <td>2.461539</td>\n",
       "    </tr>\n",
       "    <tr>\n",
       "      <th>64</th>\n",
       "      <td>2.567534</td>\n",
       "      <td>7.514002</td>\n",
       "      <td>C</td>\n",
       "      <td>3.363238</td>\n",
       "      <td>5.243808</td>\n",
       "      <td>2.032217</td>\n",
       "      <td>2.299877</td>\n",
       "      <td>1.621858</td>\n",
       "      <td>7.568438</td>\n",
       "      <td>0.525164</td>\n",
       "      <td>...</td>\n",
       "      <td>5.152980</td>\n",
       "      <td>4.721778</td>\n",
       "      <td>1.715600</td>\n",
       "      <td>K</td>\n",
       "      <td>1.943936</td>\n",
       "      <td>2.676581</td>\n",
       "      <td>0.632545</td>\n",
       "      <td>0</td>\n",
       "      <td>2.129310</td>\n",
       "      <td>2.267206</td>\n",
       "    </tr>\n",
       "    <tr>\n",
       "      <th>68</th>\n",
       "      <td>1.312574</td>\n",
       "      <td>9.353351</td>\n",
       "      <td>C</td>\n",
       "      <td>5.289176</td>\n",
       "      <td>10.368787</td>\n",
       "      <td>3.342530</td>\n",
       "      <td>2.782814</td>\n",
       "      <td>0.287117</td>\n",
       "      <td>8.544892</td>\n",
       "      <td>1.050329</td>\n",
       "      <td>...</td>\n",
       "      <td>7.182663</td>\n",
       "      <td>2.253375</td>\n",
       "      <td>0.432564</td>\n",
       "      <td>K</td>\n",
       "      <td>1.533032</td>\n",
       "      <td>2.601497</td>\n",
       "      <td>3.355834</td>\n",
       "      <td>0</td>\n",
       "      <td>0.815865</td>\n",
       "      <td>2.500000</td>\n",
       "    </tr>\n",
       "    <tr>\n",
       "      <th>73</th>\n",
       "      <td>1.095601</td>\n",
       "      <td>6.772009</td>\n",
       "      <td>C</td>\n",
       "      <td>5.431377</td>\n",
       "      <td>10.202250</td>\n",
       "      <td>1.844332</td>\n",
       "      <td>1.920473</td>\n",
       "      <td>7.403780</td>\n",
       "      <td>6.277372</td>\n",
       "      <td>1.050329</td>\n",
       "      <td>...</td>\n",
       "      <td>4.598540</td>\n",
       "      <td>2.942474</td>\n",
       "      <td>7.318691</td>\n",
       "      <td>AZ</td>\n",
       "      <td>1.139705</td>\n",
       "      <td>1.871827</td>\n",
       "      <td>3.147261</td>\n",
       "      <td>0</td>\n",
       "      <td>1.744493</td>\n",
       "      <td>1.414140</td>\n",
       "    </tr>\n",
       "  </tbody>\n",
       "</table>\n",
       "<p>5 rows × 131 columns</p>\n",
       "</div>"
      ],
      "text/plain": [
       "          v1        v2 v3        v4         v5        v6        v7        v8  \\\n",
       "21  1.289841  4.788645  C  4.283417  10.719571  3.107570  1.962151  0.080812   \n",
       "63  2.495783  9.306134  C  6.572474  10.292470  3.001686  2.664418  0.511063   \n",
       "64  2.567534  7.514002  C  3.363238   5.243808  2.032217  2.299877  1.621858   \n",
       "68  1.312574  9.353351  C  5.289176  10.368787  3.342530  2.782814  0.287117   \n",
       "73  1.095601  6.772009  C  5.431377  10.202250  1.844332  1.920473  7.403780   \n",
       "\n",
       "           v9       v10  ...      v122      v123      v124  v125      v126  \\\n",
       "21   8.604652  5.229758  ...  5.968993  2.169826  0.004920    CD  1.460793   \n",
       "63  10.235293  0.787746  ...  8.705882  2.510637  0.757561     K  1.483949   \n",
       "64   7.568438  0.525164  ...  5.152980  4.721778  1.715600     K  1.943936   \n",
       "68   8.544892  1.050329  ...  7.182663  2.253375  0.432564     K  1.533032   \n",
       "73   6.277372  1.050329  ...  4.598540  2.942474  7.318691    AZ  1.139705   \n",
       "\n",
       "        v127      v128  v129      v130      v131  \n",
       "21  1.531375  1.964652     1  2.111675  1.346155  \n",
       "63  4.584738  3.453224     0  1.645569  2.461539  \n",
       "64  2.676581  0.632545     0  2.129310  2.267206  \n",
       "68  2.601497  3.355834     0  0.815865  2.500000  \n",
       "73  1.871827  3.147261     0  1.744493  1.414140  \n",
       "\n",
       "[5 rows x 131 columns]"
      ]
     },
     "execution_count": 8,
     "metadata": {},
     "output_type": "execute_result"
    }
   ],
   "source": [
    "X = data\n",
    "del X ['ID']\n",
    "# столбец target является целевой переменной, удаляем его из X\n",
    "del X ['target']\n",
    "X.head()"
   ]
  },
  {
   "cell_type": "code",
   "execution_count": 9,
   "metadata": {},
   "outputs": [
    {
     "data": {
      "text/plain": [
       "(17756, 131)"
      ]
     },
     "execution_count": 9,
     "metadata": {},
     "output_type": "execute_result"
    }
   ],
   "source": [
    "data.shape"
   ]
  },
  {
   "cell_type": "code",
   "execution_count": 10,
   "metadata": {},
   "outputs": [],
   "source": [
    "from pandas.api.types import is_string_dtype"
   ]
  },
  {
   "cell_type": "code",
   "execution_count": 11,
   "metadata": {},
   "outputs": [
    {
     "data": {
      "text/plain": [
       "['v3',\n",
       " 'v22',\n",
       " 'v24',\n",
       " 'v30',\n",
       " 'v31',\n",
       " 'v47',\n",
       " 'v52',\n",
       " 'v56',\n",
       " 'v66',\n",
       " 'v71',\n",
       " 'v74',\n",
       " 'v75',\n",
       " 'v79',\n",
       " 'v91',\n",
       " 'v107',\n",
       " 'v110',\n",
       " 'v112',\n",
       " 'v113',\n",
       " 'v125']"
      ]
     },
     "execution_count": 11,
     "metadata": {},
     "output_type": "execute_result"
    }
   ],
   "source": [
    "columns_strings=[]\n",
    "for i in X:\n",
    "    if is_string_dtype(X[i]):\n",
    "        columns_strings.append(i)\n",
    "        \n",
    "columns_strings    "
   ]
  },
  {
   "cell_type": "code",
   "execution_count": 12,
   "metadata": {},
   "outputs": [],
   "source": [
    "# столбцы columns_strings является категориальной переменной\n",
    "# переведем ее в значения, добавив столбцы с соответствующими названиями\n",
    "X = pd.get_dummies( X, columns = columns_strings )"
   ]
  },
  {
   "cell_type": "code",
   "execution_count": 13,
   "metadata": {},
   "outputs": [
    {
     "data": {
      "text/html": [
       "<div>\n",
       "<style scoped>\n",
       "    .dataframe tbody tr th:only-of-type {\n",
       "        vertical-align: middle;\n",
       "    }\n",
       "\n",
       "    .dataframe tbody tr th {\n",
       "        vertical-align: top;\n",
       "    }\n",
       "\n",
       "    .dataframe thead th {\n",
       "        text-align: right;\n",
       "    }\n",
       "</style>\n",
       "<table border=\"1\" class=\"dataframe\">\n",
       "  <thead>\n",
       "    <tr style=\"text-align: right;\">\n",
       "      <th></th>\n",
       "      <th>v1</th>\n",
       "      <th>v2</th>\n",
       "      <th>v4</th>\n",
       "      <th>v5</th>\n",
       "      <th>v6</th>\n",
       "      <th>v7</th>\n",
       "      <th>v8</th>\n",
       "      <th>v9</th>\n",
       "      <th>v10</th>\n",
       "      <th>v11</th>\n",
       "      <th>...</th>\n",
       "      <th>v125_Q</th>\n",
       "      <th>v125_R</th>\n",
       "      <th>v125_S</th>\n",
       "      <th>v125_T</th>\n",
       "      <th>v125_U</th>\n",
       "      <th>v125_V</th>\n",
       "      <th>v125_W</th>\n",
       "      <th>v125_X</th>\n",
       "      <th>v125_Y</th>\n",
       "      <th>v125_Z</th>\n",
       "    </tr>\n",
       "  </thead>\n",
       "  <tbody>\n",
       "    <tr>\n",
       "      <th>21</th>\n",
       "      <td>1.289841</td>\n",
       "      <td>4.788645</td>\n",
       "      <td>4.283417</td>\n",
       "      <td>10.719571</td>\n",
       "      <td>3.107570</td>\n",
       "      <td>1.962151</td>\n",
       "      <td>0.080812</td>\n",
       "      <td>8.604652</td>\n",
       "      <td>5.229758</td>\n",
       "      <td>16.275460</td>\n",
       "      <td>...</td>\n",
       "      <td>0</td>\n",
       "      <td>0</td>\n",
       "      <td>0</td>\n",
       "      <td>0</td>\n",
       "      <td>0</td>\n",
       "      <td>0</td>\n",
       "      <td>0</td>\n",
       "      <td>0</td>\n",
       "      <td>0</td>\n",
       "      <td>0</td>\n",
       "    </tr>\n",
       "    <tr>\n",
       "      <th>63</th>\n",
       "      <td>2.495783</td>\n",
       "      <td>9.306134</td>\n",
       "      <td>6.572474</td>\n",
       "      <td>10.292470</td>\n",
       "      <td>3.001686</td>\n",
       "      <td>2.664418</td>\n",
       "      <td>0.511063</td>\n",
       "      <td>10.235293</td>\n",
       "      <td>0.787746</td>\n",
       "      <td>14.225232</td>\n",
       "      <td>...</td>\n",
       "      <td>0</td>\n",
       "      <td>0</td>\n",
       "      <td>0</td>\n",
       "      <td>0</td>\n",
       "      <td>0</td>\n",
       "      <td>0</td>\n",
       "      <td>0</td>\n",
       "      <td>0</td>\n",
       "      <td>0</td>\n",
       "      <td>0</td>\n",
       "    </tr>\n",
       "    <tr>\n",
       "      <th>64</th>\n",
       "      <td>2.567534</td>\n",
       "      <td>7.514002</td>\n",
       "      <td>3.363238</td>\n",
       "      <td>5.243808</td>\n",
       "      <td>2.032217</td>\n",
       "      <td>2.299877</td>\n",
       "      <td>1.621858</td>\n",
       "      <td>7.568438</td>\n",
       "      <td>0.525164</td>\n",
       "      <td>15.110132</td>\n",
       "      <td>...</td>\n",
       "      <td>0</td>\n",
       "      <td>0</td>\n",
       "      <td>0</td>\n",
       "      <td>0</td>\n",
       "      <td>0</td>\n",
       "      <td>0</td>\n",
       "      <td>0</td>\n",
       "      <td>0</td>\n",
       "      <td>0</td>\n",
       "      <td>0</td>\n",
       "    </tr>\n",
       "    <tr>\n",
       "      <th>68</th>\n",
       "      <td>1.312574</td>\n",
       "      <td>9.353351</td>\n",
       "      <td>5.289176</td>\n",
       "      <td>10.368787</td>\n",
       "      <td>3.342530</td>\n",
       "      <td>2.782814</td>\n",
       "      <td>0.287117</td>\n",
       "      <td>8.544892</td>\n",
       "      <td>1.050329</td>\n",
       "      <td>15.277561</td>\n",
       "      <td>...</td>\n",
       "      <td>0</td>\n",
       "      <td>0</td>\n",
       "      <td>0</td>\n",
       "      <td>0</td>\n",
       "      <td>0</td>\n",
       "      <td>0</td>\n",
       "      <td>0</td>\n",
       "      <td>0</td>\n",
       "      <td>0</td>\n",
       "      <td>0</td>\n",
       "    </tr>\n",
       "    <tr>\n",
       "      <th>73</th>\n",
       "      <td>1.095601</td>\n",
       "      <td>6.772009</td>\n",
       "      <td>5.431377</td>\n",
       "      <td>10.202250</td>\n",
       "      <td>1.844332</td>\n",
       "      <td>1.920473</td>\n",
       "      <td>7.403780</td>\n",
       "      <td>6.277372</td>\n",
       "      <td>1.050329</td>\n",
       "      <td>16.240929</td>\n",
       "      <td>...</td>\n",
       "      <td>0</td>\n",
       "      <td>0</td>\n",
       "      <td>0</td>\n",
       "      <td>0</td>\n",
       "      <td>0</td>\n",
       "      <td>0</td>\n",
       "      <td>0</td>\n",
       "      <td>0</td>\n",
       "      <td>0</td>\n",
       "      <td>0</td>\n",
       "    </tr>\n",
       "  </tbody>\n",
       "</table>\n",
       "<p>5 rows × 7387 columns</p>\n",
       "</div>"
      ],
      "text/plain": [
       "          v1        v2        v4         v5        v6        v7        v8  \\\n",
       "21  1.289841  4.788645  4.283417  10.719571  3.107570  1.962151  0.080812   \n",
       "63  2.495783  9.306134  6.572474  10.292470  3.001686  2.664418  0.511063   \n",
       "64  2.567534  7.514002  3.363238   5.243808  2.032217  2.299877  1.621858   \n",
       "68  1.312574  9.353351  5.289176  10.368787  3.342530  2.782814  0.287117   \n",
       "73  1.095601  6.772009  5.431377  10.202250  1.844332  1.920473  7.403780   \n",
       "\n",
       "           v9       v10        v11  ...  v125_Q  v125_R  v125_S  v125_T  \\\n",
       "21   8.604652  5.229758  16.275460  ...       0       0       0       0   \n",
       "63  10.235293  0.787746  14.225232  ...       0       0       0       0   \n",
       "64   7.568438  0.525164  15.110132  ...       0       0       0       0   \n",
       "68   8.544892  1.050329  15.277561  ...       0       0       0       0   \n",
       "73   6.277372  1.050329  16.240929  ...       0       0       0       0   \n",
       "\n",
       "    v125_U  v125_V  v125_W  v125_X  v125_Y  v125_Z  \n",
       "21       0       0       0       0       0       0  \n",
       "63       0       0       0       0       0       0  \n",
       "64       0       0       0       0       0       0  \n",
       "68       0       0       0       0       0       0  \n",
       "73       0       0       0       0       0       0  \n",
       "\n",
       "[5 rows x 7387 columns]"
      ]
     },
     "execution_count": 13,
     "metadata": {},
     "output_type": "execute_result"
    }
   ],
   "source": [
    "X.head()"
   ]
  },
  {
   "cell_type": "code",
   "execution_count": 14,
   "metadata": {},
   "outputs": [
    {
     "data": {
      "text/plain": [
       "(17756, 7387)"
      ]
     },
     "execution_count": 14,
     "metadata": {},
     "output_type": "execute_result"
    }
   ],
   "source": [
    "X.shape"
   ]
  },
  {
   "cell_type": "code",
   "execution_count": 15,
   "metadata": {},
   "outputs": [],
   "source": [
    "# Поделим на train и тест\n",
    "from sklearn.model_selection import train_test_split\n",
    "X_train, X_test, y_train, y_test = train_test_split(X, y, test_size=0.2)"
   ]
  },
  {
   "cell_type": "code",
   "execution_count": 16,
   "metadata": {},
   "outputs": [
    {
     "data": {
      "text/plain": [
       "BaggingClassifier(base_estimator=DecisionTreeClassifier(), n_jobs=-1)"
      ]
     },
     "execution_count": 16,
     "metadata": {},
     "output_type": "execute_result"
    }
   ],
   "source": [
    "from sklearn.ensemble import RandomForestClassifier\n",
    "from sklearn.ensemble import BaggingClassifier\n",
    "from sklearn.tree import DecisionTreeClassifier\n",
    "\n",
    "\n",
    "clf_rf = RandomForestClassifier(n_estimators=10, max_depth=5, min_samples_leaf=20, max_features=0.5, n_jobs=-1)\n",
    "clf_rf.fit(X_train, y_train)   \n",
    "\n",
    "bag_clf = BaggingClassifier(n_estimators=10, base_estimator=DecisionTreeClassifier(), n_jobs=-1)\n",
    "bag_clf.fit(X_train, y_train)"
   ]
  },
  {
   "cell_type": "code",
   "execution_count": 17,
   "metadata": {},
   "outputs": [],
   "source": [
    "def show_auc(y, y_pred, plot_label='', prin=True):    \n",
    "    fpr, tpr, _ = roc_curve(y, y_pred)\n",
    "    auc_val = auc(fpr, tpr)\n",
    "    if prin:\n",
    "        print('ROC AUC: {0:.4f}'.format(auc_val))\n",
    "    if plot_label:\n",
    "        plt.plot(fpr, tpr, label=plot_label)\n",
    "        plt.xlabel('FPR')\n",
    "        plt.ylabel('TPR')\n",
    "    return auc_val"
   ]
  },
  {
   "cell_type": "code",
   "execution_count": 18,
   "metadata": {},
   "outputs": [
    {
     "name": "stdout",
     "output_type": "stream",
     "text": [
      "Train RF:\n",
      "ROC AUC: 0.7315\n",
      "Test RF:\n",
      "ROC AUC: 0.6925\n",
      "Train BAG:\n",
      "ROC AUC: 0.9990\n",
      "Test BAG:\n",
      "ROC AUC: 0.6776\n"
     ]
    },
    {
     "data": {
      "image/png": "[encoded data removed]",
      "text/plain": [
       "<Figure size 460.8x403.2 with 1 Axes>"
      ]
     },
     "metadata": {},
     "output_type": "display_data"
    }
   ],
   "source": [
    "my_pred_test_rf = clf_rf.predict_proba(X_test)[:, 1]\n",
    "my_pred_train_rf = clf_rf.predict_proba(X_train)[:, 1]\n",
    "my_pred_test_bag = bag_clf.predict_proba(X_test)[:, 1]\n",
    "my_pred_train_bag = bag_clf.predict_proba(X_train)[:, 1]\n",
    "\n",
    "print('Train RF:')\n",
    "show_auc(y_train, my_pred_train_rf, 'train rf')\n",
    "print('Test RF:')\n",
    "show_auc(y_test, my_pred_test_rf, 'test rf')\n",
    "print('Train BAG:')\n",
    "show_auc(y_train, my_pred_train_bag, 'train bag')\n",
    "print('Test BAG:')\n",
    "show_auc(y_test, my_pred_test_bag, 'test bag')\n",
    "\n",
    "plt.legend();"
   ]
  },
  {
   "cell_type": "code",
   "execution_count": 19,
   "metadata": {},
   "outputs": [
    {
     "data": {
      "text/plain": [
       "43      0.437481\n",
       "7209    0.082109\n",
       "7210    0.072773\n",
       "7116    0.054432\n",
       "7208    0.049329\n",
       "          ...   \n",
       "4916    0.000000\n",
       "4917    0.000000\n",
       "4918    0.000000\n",
       "4919    0.000000\n",
       "3693    0.000000\n",
       "Length: 7387, dtype: float64"
      ]
     },
     "execution_count": 19,
     "metadata": {},
     "output_type": "execute_result"
    }
   ],
   "source": [
    "imp = pd.Series(clf_rf.feature_importances_)\n",
    "imp.sort_values(ascending=False)"
   ]
  },
  {
   "cell_type": "code",
   "execution_count": null,
   "metadata": {},
   "outputs": [],
   "source": []
  },
  {
   "cell_type": "code",
   "execution_count": 20,
   "metadata": {},
   "outputs": [],
   "source": [
    "from sklearn.ensemble import StackingClassifier\n",
    "from sklearn.linear_model import LogisticRegression\n",
    "from sklearn.neighbors import KNeighborsClassifier\n"
   ]
  },
  {
   "cell_type": "code",
   "execution_count": 21,
   "metadata": {},
   "outputs": [],
   "source": [
    "classifier = StackingClassifier(\n",
    "    [\n",
    "        ('lr', LogisticRegression(max_iter=100000)),\n",
    "        ('dt', DecisionTreeClassifier())\n",
    "    ],\n",
    "LogisticRegression())"
   ]
  },
  {
   "cell_type": "code",
   "execution_count": 22,
   "metadata": {},
   "outputs": [],
   "source": [
    "data1 = pd.read_csv('train.csv')"
   ]
  },
  {
   "cell_type": "code",
   "execution_count": 23,
   "metadata": {},
   "outputs": [],
   "source": [
    "# Уменьшим размер данных для ускорения обучения, возьмем случайную подвыборку 20% данных\n",
    "from sklearn.model_selection import StratifiedShuffleSplit\n",
    "\n",
    "random_splitter = StratifiedShuffleSplit(n_splits=1, test_size=0.2, random_state=777)\n",
    "\n",
    "for train_index, test_index in random_splitter.split(data1, data1.target):\n",
    "    data1 = data1.iloc[test_index]"
   ]
  },
  {
   "cell_type": "code",
   "execution_count": 24,
   "metadata": {},
   "outputs": [],
   "source": [
    "# Разбиваем на train/test\n",
    "splitter = StratifiedShuffleSplit(n_splits=1, test_size=0.3, random_state=777)\n",
    "\n",
    "for train_index, test_index in splitter.split(data1, data1.target):\n",
    "    d_train = data1.iloc[train_index]\n",
    "    d_test = data1.iloc[test_index]\n",
    "    \n",
    "    y_train = data1['target'].iloc[train_index]\n",
    "    y_test = data1['target'].iloc[test_index]"
   ]
  },
  {
   "cell_type": "code",
   "execution_count": 25,
   "metadata": {},
   "outputs": [
    {
     "name": "stdout",
     "output_type": "stream",
     "text": [
      "v3         3\n",
      "v22     6610\n",
      "v24        5\n",
      "v30        7\n",
      "v31        3\n",
      "v47        9\n",
      "v52       12\n",
      "v56       90\n",
      "v66        3\n",
      "v71        5\n",
      "v74        3\n",
      "v75        4\n",
      "v79       17\n",
      "v91        7\n",
      "v107       7\n",
      "v110       3\n",
      "v112      22\n",
      "v113      34\n",
      "v125      88\n",
      "dtype: int64\n"
     ]
    }
   ],
   "source": [
    "#Находим категориальные признаки\n",
    "cat_feat = list(data1.dtypes[data1.dtypes == object].index)\n",
    "\n",
    "#закодируем пропущенные значений строкой, факт пропущенного значения тоже может нести в себе информацию\n",
    "data1[cat_feat] = data1[cat_feat].fillna('nan')\n",
    "\n",
    "#отфильтруем непрерывные признаки\n",
    "num_feat = [f for f in data1 if f not in (cat_feat + ['ID', 'target'])]\n",
    "\n",
    "# Смотрим сколько у нас значений по каждому категориальному признаку\n",
    "cat_nunique = d_train[cat_feat].nunique()\n",
    "print(cat_nunique)\n",
    "\n",
    "#Чтобы в разы не увеличивать число признаков при построении dummy,\n",
    "#будем использовать категориальные признаки с < 30 уникальных значений\n",
    "cat_feat = list(cat_nunique[cat_nunique < 30].index)"
   ]
  },
  {
   "cell_type": "code",
   "execution_count": 26,
   "metadata": {},
   "outputs": [],
   "source": [
    "# Создаем дамми-переменные для категорий\n",
    "dummy_train = pd.get_dummies(d_train[cat_feat], columns=cat_feat)\n",
    "dummy_test = pd.get_dummies(d_test[cat_feat], columns=cat_feat)\n",
    "\n",
    "dummy_cols = list(set(dummy_train) & set(dummy_test))\n",
    "\n",
    "dummy_train = dummy_train[dummy_cols]\n",
    "dummy_test = dummy_test[dummy_cols]\n",
    "\n",
    "\n",
    "# Заменяем пропуски на специальное значение -999, чтобы деревья могли их отличить\n",
    "X_train = pd.concat([d_train[num_feat].fillna(-999),\n",
    "                     dummy_train], axis=1)\n",
    "\n",
    "X_test = pd.concat([d_test[num_feat].fillna(-999),\n",
    "                     dummy_test], axis=1)"
   ]
  },
  {
   "cell_type": "code",
   "execution_count": 27,
   "metadata": {},
   "outputs": [
    {
     "data": {
      "text/plain": [
       "StackingClassifier(estimators=[('lr', LogisticRegression(max_iter=100000)),\n",
       "                               ('dt', DecisionTreeClassifier())],\n",
       "                   final_estimator=LogisticRegression())"
      ]
     },
     "execution_count": 27,
     "metadata": {},
     "output_type": "execute_result"
    }
   ],
   "source": [
    "classifier.fit(X_train, y_train)"
   ]
  },
  {
   "cell_type": "code",
   "execution_count": 28,
   "metadata": {},
   "outputs": [
    {
     "data": {
      "text/plain": [
       "LogisticRegression(max_iter=100000)"
      ]
     },
     "execution_count": 28,
     "metadata": {},
     "output_type": "execute_result"
    }
   ],
   "source": [
    "classifier.named_estimators_['lr']"
   ]
  },
  {
   "cell_type": "code",
   "execution_count": 29,
   "metadata": {},
   "outputs": [],
   "source": [
    "y_pred_proba_lr = classifier.named_estimators_['lr'].predict_proba(X_test)[:,1]"
   ]
  },
  {
   "cell_type": "code",
   "execution_count": 30,
   "metadata": {},
   "outputs": [],
   "source": [
    "y_pred_proba_dt = classifier.named_estimators_['dt'].predict_proba(X_test)[:,1]"
   ]
  },
  {
   "cell_type": "code",
   "execution_count": 31,
   "metadata": {},
   "outputs": [],
   "source": [
    "y_pred_proba = classifier.predict_proba(X_test)[:,1]"
   ]
  },
  {
   "cell_type": "code",
   "execution_count": 32,
   "metadata": {},
   "outputs": [
    {
     "name": "stdout",
     "output_type": "stream",
     "text": [
      "LR\n",
      "ROC AUC: 0.7211\n",
      "DT\n",
      "ROC AUC: 0.5744\n",
      "STACK\n",
      "ROC AUC: 0.7225\n"
     ]
    },
    {
     "data": {
      "image/png": "[encoded data removed]",
      "text/plain": [
       "<Figure size 460.8x403.2 with 1 Axes>"
      ]
     },
     "metadata": {},
     "output_type": "display_data"
    }
   ],
   "source": [
    "print(\"LR\")\n",
    "show_auc(y_test, y_pred_proba_lr, 'LR')\n",
    "print(\"DT\")\n",
    "show_auc(y_test, y_pred_proba_dt, 'DT')\n",
    "print(\"STACK\")\n",
    "show_auc(y_test, y_pred_proba, 'STACK')\n",
    "plt.legend()\n",
    "plt.show()"
   ]
  },
  {
   "cell_type": "code",
   "execution_count": 33,
   "metadata": {},
   "outputs": [
    {
     "data": {
      "text/plain": [
       "LogisticRegression()"
      ]
     },
     "execution_count": 33,
     "metadata": {},
     "output_type": "execute_result"
    }
   ],
   "source": [
    "classifier.final_estimator_"
   ]
  },
  {
   "cell_type": "code",
   "execution_count": 34,
   "metadata": {},
   "outputs": [
    {
     "data": {
      "text/plain": [
       "<AxesSubplot:>"
      ]
     },
     "execution_count": 34,
     "metadata": {},
     "output_type": "execute_result"
    },
    {
     "data": {
      "image/png": "[encoded data removed]",
      "text/plain": [
       "<Figure size 460.8x403.2 with 1 Axes>"
      ]
     },
     "metadata": {},
     "output_type": "display_data"
    }
   ],
   "source": [
    "pd.Series(classifier.final_estimator_.coef_.flatten(), index=classifier.named_estimators_.keys()).plot(kind='barh')"
   ]
  }
 ],
 "metadata": {
  "kernelspec": {
   "display_name": "Python 3",
   "language": "python",
   "name": "python3"
  },
  "language_info": {
   "codemirror_mode": {
    "name": "ipython",
    "version": 3
   },
   "file_extension": ".py",
   "mimetype": "text/x-python",
   "name": "python",
   "nbconvert_exporter": "python",
   "pygments_lexer": "ipython3",
   "version": "3.8.5"
  }
 },
 "nbformat": 4,
 "nbformat_minor": 4
}
